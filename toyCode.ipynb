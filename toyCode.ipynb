{
  "nbformat": 4,
  "nbformat_minor": 0,
  "metadata": {
    "colab": {
      "provenance": [],
      "authorship_tag": "ABX9TyP9E+Adg/y5LtIRI0Cs4S66",
      "include_colab_link": true
    },
    "kernelspec": {
      "name": "python3",
      "display_name": "Python 3"
    },
    "language_info": {
      "name": "python"
    }
  },
  "cells": [
    {
      "cell_type": "markdown",
      "metadata": {
        "id": "view-in-github",
        "colab_type": "text"
      },
      "source": [
        "<a href=\"https://colab.research.google.com/github/RafaLemos86/DetectandoObjComYoloDarknet/blob/main/toyCode.ipynb\" target=\"_parent\"><img src=\"https://colab.research.google.com/assets/colab-badge.svg\" alt=\"Open In Colab\"/></a>"
      ]
    },
    {
      "cell_type": "code",
      "execution_count": null,
      "metadata": {
        "id": "dP_CRLFfF98Q"
      },
      "outputs": [],
      "source": [
        "#Download do Darknet\n",
        "\n",
        "!git clone https://github.com/AlexeyAB/darknet"
      ]
    },
    {
      "cell_type": "code",
      "source": [
        "#Entrando na pasta Darknet\n",
        "\n",
        "cd darknet"
      ],
      "metadata": {
        "id": "KCtEDyo8G0SM"
      },
      "execution_count": null,
      "outputs": []
    },
    {
      "cell_type": "markdown",
      "source": [],
      "metadata": {
        "id": "dTB257jFGzuH"
      }
    },
    {
      "cell_type": "code",
      "source": [
        "#Compilando Biblioteca\n",
        "\n",
        "!make"
      ],
      "metadata": {
        "id": "ssM5vmP0GNdi"
      },
      "execution_count": null,
      "outputs": []
    },
    {
      "cell_type": "code",
      "source": [
        "#Baixando os pesos da rede neural (seu conhecimento)\n",
        "\n",
        "!wget https://github.com/AlexeyAB/darknet/releases/download/darknet_yolo_v3_optimal/yolov4.weights"
      ],
      "metadata": {
        "id": "B5ymeAPOGNa0"
      },
      "execution_count": null,
      "outputs": []
    },
    {
      "cell_type": "code",
      "source": [
        "#Importando conexao com Drive\n",
        "\n",
        "from google.colab import drive\n",
        "drive.mount('/content/gdrive')"
      ],
      "metadata": {
        "id": "Gg9QeSp8GNYT"
      },
      "execution_count": null,
      "outputs": []
    },
    {
      "cell_type": "code",
      "source": [
        "#importando do Drive, as imagens para detecção\n",
        "\n",
        "!cp /content/gdrive/MyDrive/Colab\\ Notebooks/Foto/teste01.jpg data/\n",
        "!cp /content/gdrive/MyDrive/Colab\\ Notebooks/Foto/teste02.jpg data/"
      ],
      "metadata": {
        "id": "Paa_3ahTGNVp"
      },
      "execution_count": null,
      "outputs": []
    },
    {
      "cell_type": "code",
      "source": [
        "#funcao para mostrar a imagem gerada\n",
        "\n",
        "import cv2\n",
        "import matplotlib.pyplot as plt\n",
        "def mostrar(caminho):\n",
        "  imagem = cv2.imread(caminho)\n",
        "  fig = plt.gcf()\n",
        "  fig.set_size_inches(18, 10)\n",
        "  plt.axis('off')\n",
        "  plt.imshow(cv2.cvtColor(imagem, cv2.COLOR_BGR2RGB))\n",
        "  plt.show()"
      ],
      "metadata": {
        "id": "EuNswqGNGNRA"
      },
      "execution_count": null,
      "outputs": []
    },
    {
      "cell_type": "code",
      "source": [
        "#Deteccao da primeira imagem\n",
        "\n",
        "!./darknet detect cfg/yolov4.cfg yolov4.weights data/teste01.jpg"
      ],
      "metadata": {
        "id": "jQieTq6ZGNMT"
      },
      "execution_count": null,
      "outputs": []
    },
    {
      "cell_type": "code",
      "source": [
        "#Deteccao da segunda imagem\n",
        "\n",
        "!./darknet detect cfg/yolov4.cfg yolov4.weights data/teste02.jpg"
      ],
      "metadata": {
        "id": "_HWdyMArJQqh"
      },
      "execution_count": null,
      "outputs": []
    },
    {
      "cell_type": "code",
      "source": [
        "mostrar('predictions.jpg')"
      ],
      "metadata": {
        "id": "GvqP7n5OITyW"
      },
      "execution_count": null,
      "outputs": []
    },
    {
      "cell_type": "code",
      "source": [],
      "metadata": {
        "id": "2Nb6So_JITvd"
      },
      "execution_count": null,
      "outputs": []
    },
    {
      "cell_type": "code",
      "source": [],
      "metadata": {
        "id": "__XqfTy3IToG"
      },
      "execution_count": null,
      "outputs": []
    }
  ]
}